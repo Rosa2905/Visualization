{
 "cells": [
  {
   "cell_type": "code",
   "execution_count": 2,
   "metadata": {},
   "outputs": [
    {
     "data": {
      "text/html": [
       "<div>\n",
       "<style scoped>\n",
       "    .dataframe tbody tr th:only-of-type {\n",
       "        vertical-align: middle;\n",
       "    }\n",
       "\n",
       "    .dataframe tbody tr th {\n",
       "        vertical-align: top;\n",
       "    }\n",
       "\n",
       "    .dataframe thead th {\n",
       "        text-align: right;\n",
       "    }\n",
       "</style>\n",
       "<table border=\"1\" class=\"dataframe\">\n",
       "  <thead>\n",
       "    <tr style=\"text-align: right;\">\n",
       "      <th></th>\n",
       "      <th>sepal_lengh</th>\n",
       "      <th>sepal_width</th>\n",
       "      <th>petal_lenght</th>\n",
       "      <th>petal_width</th>\n",
       "      <th>class</th>\n",
       "    </tr>\n",
       "  </thead>\n",
       "  <tbody>\n",
       "    <tr>\n",
       "      <th>0</th>\n",
       "      <td>5.1</td>\n",
       "      <td>3.5</td>\n",
       "      <td>1.4</td>\n",
       "      <td>0.2</td>\n",
       "      <td>Iris-setosa</td>\n",
       "    </tr>\n",
       "    <tr>\n",
       "      <th>1</th>\n",
       "      <td>4.9</td>\n",
       "      <td>3.0</td>\n",
       "      <td>1.4</td>\n",
       "      <td>0.2</td>\n",
       "      <td>Iris-setosa</td>\n",
       "    </tr>\n",
       "    <tr>\n",
       "      <th>2</th>\n",
       "      <td>4.7</td>\n",
       "      <td>3.2</td>\n",
       "      <td>1.3</td>\n",
       "      <td>0.2</td>\n",
       "      <td>Iris-setosa</td>\n",
       "    </tr>\n",
       "    <tr>\n",
       "      <th>3</th>\n",
       "      <td>4.6</td>\n",
       "      <td>3.1</td>\n",
       "      <td>1.5</td>\n",
       "      <td>0.2</td>\n",
       "      <td>Iris-setosa</td>\n",
       "    </tr>\n",
       "    <tr>\n",
       "      <th>4</th>\n",
       "      <td>5.0</td>\n",
       "      <td>3.6</td>\n",
       "      <td>1.4</td>\n",
       "      <td>0.2</td>\n",
       "      <td>Iris-setosa</td>\n",
       "    </tr>\n",
       "  </tbody>\n",
       "</table>\n",
       "</div>"
      ],
      "text/plain": [
       "   sepal_lengh  sepal_width  petal_lenght  petal_width        class\n",
       "0          5.1          3.5           1.4          0.2  Iris-setosa\n",
       "1          4.9          3.0           1.4          0.2  Iris-setosa\n",
       "2          4.7          3.2           1.3          0.2  Iris-setosa\n",
       "3          4.6          3.1           1.5          0.2  Iris-setosa\n",
       "4          5.0          3.6           1.4          0.2  Iris-setosa"
      ]
     },
     "execution_count": 2,
     "metadata": {},
     "output_type": "execute_result"
    }
   ],
   "source": [
    "import pandas as pd\n",
    "import numpy as np\n",
    "import matplotlib.pyplot as plt\n",
    "import seaborn as sns\n",
    "iris = pd.read_csv(r\"C:\\Users\\RosaS\\Desktop\\Datasets_Limpios1\\iris.csv\", header= 0)\n",
    "df = iris\n",
    "df.head()"
   ]
  },
  {
   "cell_type": "code",
   "execution_count": 30,
   "metadata": {},
   "outputs": [
    {
     "data": {
      "text/html": [
       "<div>\n",
       "<style scoped>\n",
       "    .dataframe tbody tr th:only-of-type {\n",
       "        vertical-align: middle;\n",
       "    }\n",
       "\n",
       "    .dataframe tbody tr th {\n",
       "        vertical-align: top;\n",
       "    }\n",
       "\n",
       "    .dataframe thead th {\n",
       "        text-align: right;\n",
       "    }\n",
       "</style>\n",
       "<table border=\"1\" class=\"dataframe\">\n",
       "  <thead>\n",
       "    <tr style=\"text-align: right;\">\n",
       "      <th></th>\n",
       "      <th>sepal_lengh</th>\n",
       "      <th>sepal_width</th>\n",
       "      <th>petal_lenght</th>\n",
       "      <th>petal_width</th>\n",
       "    </tr>\n",
       "    <tr>\n",
       "      <th>class</th>\n",
       "      <th></th>\n",
       "      <th></th>\n",
       "      <th></th>\n",
       "      <th></th>\n",
       "    </tr>\n",
       "  </thead>\n",
       "  <tbody>\n",
       "    <tr>\n",
       "      <th>Iris-setosa</th>\n",
       "      <td>48</td>\n",
       "      <td>48</td>\n",
       "      <td>48</td>\n",
       "      <td>48</td>\n",
       "    </tr>\n",
       "    <tr>\n",
       "      <th>Iris-versicolor</th>\n",
       "      <td>50</td>\n",
       "      <td>50</td>\n",
       "      <td>50</td>\n",
       "      <td>50</td>\n",
       "    </tr>\n",
       "    <tr>\n",
       "      <th>Iris-virginica</th>\n",
       "      <td>49</td>\n",
       "      <td>49</td>\n",
       "      <td>49</td>\n",
       "      <td>49</td>\n",
       "    </tr>\n",
       "  </tbody>\n",
       "</table>\n",
       "</div>"
      ],
      "text/plain": [
       "                 sepal_lengh  sepal_width  petal_lenght  petal_width\n",
       "class                                                               \n",
       "Iris-setosa               48           48            48           48\n",
       "Iris-versicolor           50           50            50           50\n",
       "Iris-virginica            49           49            49           49"
      ]
     },
     "execution_count": 30,
     "metadata": {},
     "output_type": "execute_result"
    }
   ],
   "source": [
    "#df.groupby(\"class\").max() - df.groupby(\"class\").min()  #mean\n",
    "df.groupby(\"class\").count()"
   ]
  },
  {
   "cell_type": "code",
   "execution_count": 52,
   "metadata": {
    "scrolled": true
   },
   "outputs": [
    {
     "data": {
      "text/html": [
       "<div>\n",
       "<style scoped>\n",
       "    .dataframe tbody tr th:only-of-type {\n",
       "        vertical-align: middle;\n",
       "    }\n",
       "\n",
       "    .dataframe tbody tr th {\n",
       "        vertical-align: top;\n",
       "    }\n",
       "\n",
       "    .dataframe thead th {\n",
       "        text-align: right;\n",
       "    }\n",
       "</style>\n",
       "<table border=\"1\" class=\"dataframe\">\n",
       "  <thead>\n",
       "    <tr style=\"text-align: right;\">\n",
       "      <th></th>\n",
       "      <th>sepal_lengh</th>\n",
       "      <th>sepal_width</th>\n",
       "      <th>petal_lenght</th>\n",
       "      <th>petal_width</th>\n",
       "      <th>class</th>\n",
       "    </tr>\n",
       "  </thead>\n",
       "  <tbody>\n",
       "    <tr>\n",
       "      <th>14</th>\n",
       "      <td>5.8</td>\n",
       "      <td>4.0</td>\n",
       "      <td>1.2</td>\n",
       "      <td>0.2</td>\n",
       "      <td>Iris-setosa</td>\n",
       "    </tr>\n",
       "  </tbody>\n",
       "</table>\n",
       "</div>"
      ],
      "text/plain": [
       "    sepal_lengh  sepal_width  petal_lenght  petal_width        class\n",
       "14          5.8          4.0           1.2          0.2  Iris-setosa"
      ]
     },
     "execution_count": 52,
     "metadata": {},
     "output_type": "execute_result"
    }
   ],
   "source": [
    "#df[(df[\"sepal_lengh\"] >6.7) & (df[\"class\"] == \"Iris-versicolor\")]\n"
   ]
  },
  {
   "cell_type": "code",
   "execution_count": 80,
   "metadata": {},
   "outputs": [
    {
     "data": {
      "text/html": [
       "<div>\n",
       "<style scoped>\n",
       "    .dataframe tbody tr th:only-of-type {\n",
       "        vertical-align: middle;\n",
       "    }\n",
       "\n",
       "    .dataframe tbody tr th {\n",
       "        vertical-align: top;\n",
       "    }\n",
       "\n",
       "    .dataframe thead th {\n",
       "        text-align: right;\n",
       "    }\n",
       "</style>\n",
       "<table border=\"1\" class=\"dataframe\">\n",
       "  <thead>\n",
       "    <tr style=\"text-align: right;\">\n",
       "      <th></th>\n",
       "      <th>Iris-setosa</th>\n",
       "      <th>Iris-versicolor</th>\n",
       "      <th>Iris-virginica</th>\n",
       "    </tr>\n",
       "  </thead>\n",
       "  <tbody>\n",
       "    <tr>\n",
       "      <th>0</th>\n",
       "      <td>1</td>\n",
       "      <td>0</td>\n",
       "      <td>0</td>\n",
       "    </tr>\n",
       "    <tr>\n",
       "      <th>1</th>\n",
       "      <td>1</td>\n",
       "      <td>0</td>\n",
       "      <td>0</td>\n",
       "    </tr>\n",
       "    <tr>\n",
       "      <th>2</th>\n",
       "      <td>1</td>\n",
       "      <td>0</td>\n",
       "      <td>0</td>\n",
       "    </tr>\n",
       "    <tr>\n",
       "      <th>3</th>\n",
       "      <td>1</td>\n",
       "      <td>0</td>\n",
       "      <td>0</td>\n",
       "    </tr>\n",
       "    <tr>\n",
       "      <th>4</th>\n",
       "      <td>1</td>\n",
       "      <td>0</td>\n",
       "      <td>0</td>\n",
       "    </tr>\n",
       "    <tr>\n",
       "      <th>...</th>\n",
       "      <td>...</td>\n",
       "      <td>...</td>\n",
       "      <td>...</td>\n",
       "    </tr>\n",
       "    <tr>\n",
       "      <th>145</th>\n",
       "      <td>0</td>\n",
       "      <td>0</td>\n",
       "      <td>1</td>\n",
       "    </tr>\n",
       "    <tr>\n",
       "      <th>146</th>\n",
       "      <td>0</td>\n",
       "      <td>0</td>\n",
       "      <td>1</td>\n",
       "    </tr>\n",
       "    <tr>\n",
       "      <th>147</th>\n",
       "      <td>0</td>\n",
       "      <td>0</td>\n",
       "      <td>1</td>\n",
       "    </tr>\n",
       "    <tr>\n",
       "      <th>148</th>\n",
       "      <td>0</td>\n",
       "      <td>0</td>\n",
       "      <td>1</td>\n",
       "    </tr>\n",
       "    <tr>\n",
       "      <th>149</th>\n",
       "      <td>0</td>\n",
       "      <td>0</td>\n",
       "      <td>1</td>\n",
       "    </tr>\n",
       "  </tbody>\n",
       "</table>\n",
       "<p>147 rows × 3 columns</p>\n",
       "</div>"
      ],
      "text/plain": [
       "     Iris-setosa  Iris-versicolor  Iris-virginica\n",
       "0              1                0               0\n",
       "1              1                0               0\n",
       "2              1                0               0\n",
       "3              1                0               0\n",
       "4              1                0               0\n",
       "..           ...              ...             ...\n",
       "145            0                0               1\n",
       "146            0                0               1\n",
       "147            0                0               1\n",
       "148            0                0               1\n",
       "149            0                0               1\n",
       "\n",
       "[147 rows x 3 columns]"
      ]
     },
     "execution_count": 80,
     "metadata": {},
     "output_type": "execute_result"
    }
   ],
   "source": [
    "pd.get_dummies(df[\"class\"]) #categories x tupla"
   ]
  },
  {
   "cell_type": "code",
   "execution_count": 7,
   "metadata": {},
   "outputs": [],
   "source": [
    "def drop_duplicatesValues(ds):\n",
    "    df1=ds\n",
    "    df1 = df1.drop_duplicates()\n",
    "    print(\"copia: \",len(df1), \"original:\",len(df), \"Se eliminaron:\", len(df)-len(df1))\n",
    "    return df1\n",
    "\n",
    "def drop_naValues(ds):\n",
    "    ds.dropna(subset= [\"petal_lenght\"])\n",
    "    ds.dropna (thresh = 3) # columns(features) required\n",
    "    return ds\n",
    "\n",
    "def get_featuresCorrelation(x):\n",
    "    corr = round(x.corr(),3)\n",
    "    corrGraphic = corr.style.background_gradient()\n",
    "    return corrGraphic\n",
    "\n",
    "def boxplot(x):\n",
    "    Q1 = np.percentile(x,25)\n",
    "    Q3 = np.percentile(x,75)\n",
    "    rangointer = Q3 - Q1\n",
    "    umbralSuperior = Q3 + 1.5*rangointer\n",
    "    umbralInferior = Q1 - 1.5*rangointer\n",
    "\n",
    "    print(\"Umbral Superior es :\",umbralSuperior, \"\\nUmbral Inferior es: \", umbralInferior)\n",
    "    np.mean(x < umbralSuperior)\n",
    "    return df[df['sepal_lengh']  > umbralSuperior]"
   ]
  },
  {
   "cell_type": "code",
   "execution_count": 49,
   "metadata": {},
   "outputs": [
    {
     "name": "stdout",
     "output_type": "stream",
     "text": [
      "copia:  147 original: 147 Se eliminaron: 0\n"
     ]
    },
    {
     "data": {
      "text/html": [
       "<style  type=\"text/css\" >\n",
       "#T_e3a7d37f_1914_11ec_a587_1856808b2e1drow0_col0,#T_e3a7d37f_1914_11ec_a587_1856808b2e1drow1_col1,#T_e3a7d37f_1914_11ec_a587_1856808b2e1drow2_col2,#T_e3a7d37f_1914_11ec_a587_1856808b2e1drow3_col3{\n",
       "            background-color:  #023858;\n",
       "            color:  #f1f1f1;\n",
       "        }#T_e3a7d37f_1914_11ec_a587_1856808b2e1drow0_col1{\n",
       "            background-color:  #d7d6e9;\n",
       "            color:  #000000;\n",
       "        }#T_e3a7d37f_1914_11ec_a587_1856808b2e1drow0_col2{\n",
       "            background-color:  #03517e;\n",
       "            color:  #f1f1f1;\n",
       "        }#T_e3a7d37f_1914_11ec_a587_1856808b2e1drow0_col3{\n",
       "            background-color:  #045b8f;\n",
       "            color:  #f1f1f1;\n",
       "        }#T_e3a7d37f_1914_11ec_a587_1856808b2e1drow1_col0,#T_e3a7d37f_1914_11ec_a587_1856808b2e1drow1_col2,#T_e3a7d37f_1914_11ec_a587_1856808b2e1drow1_col3,#T_e3a7d37f_1914_11ec_a587_1856808b2e1drow2_col1{\n",
       "            background-color:  #fff7fb;\n",
       "            color:  #000000;\n",
       "        }#T_e3a7d37f_1914_11ec_a587_1856808b2e1drow2_col0{\n",
       "            background-color:  #045788;\n",
       "            color:  #f1f1f1;\n",
       "        }#T_e3a7d37f_1914_11ec_a587_1856808b2e1drow2_col3{\n",
       "            background-color:  #023f64;\n",
       "            color:  #f1f1f1;\n",
       "        }#T_e3a7d37f_1914_11ec_a587_1856808b2e1drow3_col0{\n",
       "            background-color:  #046198;\n",
       "            color:  #f1f1f1;\n",
       "        }#T_e3a7d37f_1914_11ec_a587_1856808b2e1drow3_col1{\n",
       "            background-color:  #f8f1f8;\n",
       "            color:  #000000;\n",
       "        }#T_e3a7d37f_1914_11ec_a587_1856808b2e1drow3_col2{\n",
       "            background-color:  #023e62;\n",
       "            color:  #f1f1f1;\n",
       "        }</style><table id=\"T_e3a7d37f_1914_11ec_a587_1856808b2e1d\" ><thead>    <tr>        <th class=\"blank level0\" ></th>        <th class=\"col_heading level0 col0\" >sepal_lengh</th>        <th class=\"col_heading level0 col1\" >sepal_width</th>        <th class=\"col_heading level0 col2\" >petal_lenght</th>        <th class=\"col_heading level0 col3\" >petal_width</th>    </tr></thead><tbody>\n",
       "                <tr>\n",
       "                        <th id=\"T_e3a7d37f_1914_11ec_a587_1856808b2e1dlevel0_row0\" class=\"row_heading level0 row0\" >sepal_lengh</th>\n",
       "                        <td id=\"T_e3a7d37f_1914_11ec_a587_1856808b2e1drow0_col0\" class=\"data row0 col0\" >1.000000</td>\n",
       "                        <td id=\"T_e3a7d37f_1914_11ec_a587_1856808b2e1drow0_col1\" class=\"data row0 col1\" >-0.109000</td>\n",
       "                        <td id=\"T_e3a7d37f_1914_11ec_a587_1856808b2e1drow0_col2\" class=\"data row0 col2\" >0.871000</td>\n",
       "                        <td id=\"T_e3a7d37f_1914_11ec_a587_1856808b2e1drow0_col3\" class=\"data row0 col3\" >0.817000</td>\n",
       "            </tr>\n",
       "            <tr>\n",
       "                        <th id=\"T_e3a7d37f_1914_11ec_a587_1856808b2e1dlevel0_row1\" class=\"row_heading level0 row1\" >sepal_width</th>\n",
       "                        <td id=\"T_e3a7d37f_1914_11ec_a587_1856808b2e1drow1_col0\" class=\"data row1 col0\" >-0.109000</td>\n",
       "                        <td id=\"T_e3a7d37f_1914_11ec_a587_1856808b2e1drow1_col1\" class=\"data row1 col1\" >1.000000</td>\n",
       "                        <td id=\"T_e3a7d37f_1914_11ec_a587_1856808b2e1drow1_col2\" class=\"data row1 col2\" >-0.421000</td>\n",
       "                        <td id=\"T_e3a7d37f_1914_11ec_a587_1856808b2e1drow1_col3\" class=\"data row1 col3\" >-0.356000</td>\n",
       "            </tr>\n",
       "            <tr>\n",
       "                        <th id=\"T_e3a7d37f_1914_11ec_a587_1856808b2e1dlevel0_row2\" class=\"row_heading level0 row2\" >petal_lenght</th>\n",
       "                        <td id=\"T_e3a7d37f_1914_11ec_a587_1856808b2e1drow2_col0\" class=\"data row2 col0\" >0.871000</td>\n",
       "                        <td id=\"T_e3a7d37f_1914_11ec_a587_1856808b2e1drow2_col1\" class=\"data row2 col1\" >-0.421000</td>\n",
       "                        <td id=\"T_e3a7d37f_1914_11ec_a587_1856808b2e1drow2_col2\" class=\"data row2 col2\" >1.000000</td>\n",
       "                        <td id=\"T_e3a7d37f_1914_11ec_a587_1856808b2e1drow2_col3\" class=\"data row2 col3\" >0.962000</td>\n",
       "            </tr>\n",
       "            <tr>\n",
       "                        <th id=\"T_e3a7d37f_1914_11ec_a587_1856808b2e1dlevel0_row3\" class=\"row_heading level0 row3\" >petal_width</th>\n",
       "                        <td id=\"T_e3a7d37f_1914_11ec_a587_1856808b2e1drow3_col0\" class=\"data row3 col0\" >0.817000</td>\n",
       "                        <td id=\"T_e3a7d37f_1914_11ec_a587_1856808b2e1drow3_col1\" class=\"data row3 col1\" >-0.356000</td>\n",
       "                        <td id=\"T_e3a7d37f_1914_11ec_a587_1856808b2e1drow3_col2\" class=\"data row3 col2\" >0.962000</td>\n",
       "                        <td id=\"T_e3a7d37f_1914_11ec_a587_1856808b2e1drow3_col3\" class=\"data row3 col3\" >1.000000</td>\n",
       "            </tr>\n",
       "    </tbody></table>"
      ],
      "text/plain": [
       "<pandas.io.formats.style.Styler at 0x13eef9ec490>"
      ]
     },
     "execution_count": 49,
     "metadata": {},
     "output_type": "execute_result"
    }
   ],
   "source": [
    "df = drop_duplicatesValues(df)\n",
    "df = drop_naValues(df)\n",
    "\n",
    "x = df.iloc[:,0:4] \n",
    "y= df.iloc[:,-1:]\n",
    "\n",
    "get_featuresCorrelation(x)"
   ]
  },
  {
   "cell_type": "code",
   "execution_count": 50,
   "metadata": {},
   "outputs": [
    {
     "name": "stdout",
     "output_type": "stream",
     "text": [
      "Umbral Superior es : 10.2 \n",
      "Umbral Inferior es:  -3.3999999999999995\n"
     ]
    },
    {
     "data": {
      "text/html": [
       "<div>\n",
       "<style scoped>\n",
       "    .dataframe tbody tr th:only-of-type {\n",
       "        vertical-align: middle;\n",
       "    }\n",
       "\n",
       "    .dataframe tbody tr th {\n",
       "        vertical-align: top;\n",
       "    }\n",
       "\n",
       "    .dataframe thead th {\n",
       "        text-align: right;\n",
       "    }\n",
       "</style>\n",
       "<table border=\"1\" class=\"dataframe\">\n",
       "  <thead>\n",
       "    <tr style=\"text-align: right;\">\n",
       "      <th></th>\n",
       "      <th>sepal_lengh</th>\n",
       "      <th>sepal_width</th>\n",
       "      <th>petal_lenght</th>\n",
       "      <th>petal_width</th>\n",
       "      <th>class</th>\n",
       "    </tr>\n",
       "  </thead>\n",
       "  <tbody>\n",
       "  </tbody>\n",
       "</table>\n",
       "</div>"
      ],
      "text/plain": [
       "Empty DataFrame\n",
       "Columns: [sepal_lengh, sepal_width, petal_lenght, petal_width, class]\n",
       "Index: []"
      ]
     },
     "execution_count": 50,
     "metadata": {},
     "output_type": "execute_result"
    }
   ],
   "source": [
    "boxplot(x)"
   ]
  },
  {
   "cell_type": "code",
   "execution_count": 290,
   "metadata": {},
   "outputs": [
    {
     "data": {
      "text/plain": [
       "<seaborn.axisgrid.FacetGrid at 0x1d271aff5b0>"
      ]
     },
     "execution_count": 290,
     "metadata": {},
     "output_type": "execute_result"
    },
    {
     "data": {
      "image/png": "[encoded data removed]",
      "text/plain": [
       "<Figure size 360x360 with 1 Axes>"
      ]
     },
     "metadata": {
      "needs_background": "light"
     },
     "output_type": "display_data"
    }
   ],
   "source": [
    "sns.displot(df[\"sepal_lengh\"])"
   ]
  },
  {
   "cell_type": "code",
   "execution_count": 56,
   "metadata": {},
   "outputs": [
    {
     "data": {
      "text/plain": [
       "<AxesSubplot:ylabel='Density'>"
      ]
     },
     "execution_count": 56,
     "metadata": {},
     "output_type": "execute_result"
    },
    {
     "data": {
      "image/png": "[encoded data removed]",
      "text/plain": [
       "<Figure size 432x288 with 1 Axes>"
      ]
     },
     "metadata": {
      "needs_background": "light"
     },
     "output_type": "display_data"
    }
   ],
   "source": [
    "#sns.kdeplot(df[\"sepal_lengh\"])\n",
    "#sns.kdeplot(df[\"sepal_width\"])\n",
    "#plt.xlim([-10,10])\n",
    "sns.kdeplot(data=x)"
   ]
  },
  {
   "cell_type": "code",
   "execution_count": 78,
   "metadata": {},
   "outputs": [
    {
     "name": "stdout",
     "output_type": "stream",
     "text": [
      "\n",
      "Mean_dataset: \n",
      " [-4.83362405e-17  1.69176842e-16 -2.41681203e-16 -3.38353684e-16] \n",
      "\n",
      "std_dataset: \n",
      " [1. 1. 1. 1.]\n"
     ]
    },
    {
     "data": {
      "text/plain": [
       "<AxesSubplot:ylabel='Density'>"
      ]
     },
     "execution_count": 78,
     "metadata": {},
     "output_type": "execute_result"
    },
    {
     "data": {
      "image/png": "[encoded data removed]",
      "text/plain": [
       "<Figure size 432x288 with 1 Axes>"
      ]
     },
     "metadata": {
      "needs_background": "light"
     },
     "output_type": "display_data"
    }
   ],
   "source": [
    "from sklearn import preprocessing\n",
    "\n",
    "def scale_preprocessing(x):\n",
    "    X_scaled = preprocessing.scale(x)\n",
    "    mean_dataset = X_scaled.mean(axis = 0) #0\n",
    "    std_dataset = X_scaled.std(axis = 0) #1\n",
    "    print(\"\\nMean_dataset: \\n\",mean_dataset,\"\\n\\nstd_dataset: \\n\",std_dataset)\n",
    "    return X_scaled \n",
    "sns.kdeplot(data=scale_preprocessing(x))"
   ]
  },
  {
   "cell_type": "code",
   "execution_count": 79,
   "metadata": {},
   "outputs": [
    {
     "data": {
      "text/plain": [
       "<AxesSubplot:ylabel='Density'>"
      ]
     },
     "execution_count": 79,
     "metadata": {},
     "output_type": "execute_result"
    },
    {
     "data": {
      "image/png": "[encoded data removed]",
      "text/plain": [
       "<Figure size 432x288 with 1 Axes>"
      ]
     },
     "metadata": {
      "needs_background": "light"
     },
     "output_type": "display_data"
    }
   ],
   "source": [
    "def scale_MinMax(x):\n",
    "    min_max_scaler = preprocessing.MinMaxScaler([0,10])\n",
    "    mean_dataset = X_scaled.mean(axis = 0) #0\n",
    "    std_dataset = X_scaled.std(axis = 0) #1\n",
    "    X_train_minmax  = min_max_scaler.fit_transform(x)\n",
    "    return X_train_minmax\n",
    "\n",
    "sns.kdeplot(data = scale_MinMax(x))"
   ]
  },
  {
   "cell_type": "code",
   "execution_count": 116,
   "metadata": {},
   "outputs": [
    {
     "name": "stdout",
     "output_type": "stream",
     "text": [
      "\n",
      "Mean_dataset: \n",
      " [-4.83362405e-17  1.69176842e-16 -2.41681203e-16 -3.38353684e-16] \n",
      "\n",
      "std_dataset: \n",
      " [1. 1. 1. 1.]\n",
      "Scale :  [-0.91550949  1.0199714  -1.35773692 -1.33570001]\n",
      "MinMaxScaler :  [2.22222222 6.25       0.6779661  0.41666667]\n"
     ]
    }
   ],
   "source": [
    "def comparisons_scalers():\n",
    "    X_scaled = scale_preprocessing(x)\n",
    "    X_scaled_minmax = scale_MinMax(x)\n",
    "    print(\"Scale : \",X_scaled[0])\n",
    "    print(\"MinMaxScaler : \",X_scaled_minmax[0])\n",
    "comparisons_scalers()"
   ]
  },
  {
   "cell_type": "code",
   "execution_count": 114,
   "metadata": {
    "scrolled": true
   },
   "outputs": [],
   "source": [
    "from sklearn.cluster  import KMeans\n",
    "from sklearn.covariance import EllipticEnvelope\n",
    "\n",
    "def model_Kmeans(X_scaled_minmax):\n",
    "    X_train = X_scaled_minmax[50:150]  #Train\n",
    "\n",
    "    kmeans = KMeans(n_clusters = 3, random_state = 0).fit(X_train)\n",
    "    print(\"Train_predictions: \\n\\n\",kmeans.labels_)\n",
    "    unique, counts = np.unique(kmeans.labels_, return_counts=True)\n",
    "    no_clusters=dict(zip(unique, counts))\n",
    "    print(\"\\nNo_byCluster: \",no_clusters)\n",
    "    print(\"\\nKmeans Centroids\\n\\n\",kmeans.cluster_centers_)\n",
    "\n",
    "    x_test = X_scaled_minmax[0:50]  #Test\n",
    "    predictions = kmeans.predict(x_test)\n",
    "    return predictions\n",
    "\n",
    "\n",
    "def model_EllipticEnvelope(X_scaled_minmax):\n",
    "    \n",
    "    X_train = X_scaled_minmax[50:150]  #Train\n",
    "    elliptic =  EllipticEnvelope (contamination = .01)\n",
    "    #var_list = [\"sepal_lengh\",\"sepal_width\",\"petal_lenght\",\"petal_width\"]\n",
    "    #x = np.array(df.loc[:,var_list].dropna())\n",
    "    predictions=elliptic.fit(X_train)\n",
    "    \n",
    "    #x_test = X_scaled_minmax[0:50]  #Test\n",
    "    #predictions = elliptic.predict(x_test)\n",
    "    return predictions\n",
    "\n",
    "def anomalous_rows(pred):\n",
    "    outliers = np.where(pred == -1) [0]\n",
    "    rows_anomalous = df.loc[outliers]\n",
    "    return rows_anomalous"
   ]
  },
  {
   "cell_type": "code",
   "execution_count": 115,
   "metadata": {},
   "outputs": [
    {
     "data": {
      "text/html": [
       "<div>\n",
       "<style scoped>\n",
       "    .dataframe tbody tr th:only-of-type {\n",
       "        vertical-align: middle;\n",
       "    }\n",
       "\n",
       "    .dataframe tbody tr th {\n",
       "        vertical-align: top;\n",
       "    }\n",
       "\n",
       "    .dataframe thead th {\n",
       "        text-align: right;\n",
       "    }\n",
       "</style>\n",
       "<table border=\"1\" class=\"dataframe\">\n",
       "  <thead>\n",
       "    <tr style=\"text-align: right;\">\n",
       "      <th></th>\n",
       "      <th>sepal_lengh</th>\n",
       "      <th>sepal_width</th>\n",
       "      <th>petal_lenght</th>\n",
       "      <th>petal_width</th>\n",
       "      <th>class</th>\n",
       "    </tr>\n",
       "  </thead>\n",
       "  <tbody>\n",
       "  </tbody>\n",
       "</table>\n",
       "</div>"
      ],
      "text/plain": [
       "Empty DataFrame\n",
       "Columns: [sepal_lengh, sepal_width, petal_lenght, petal_width, class]\n",
       "Index: []"
      ]
     },
     "execution_count": 115,
     "metadata": {},
     "output_type": "execute_result"
    }
   ],
   "source": [
    "X_scaled_minmax = scale_MinMax(x) #get dataset scaled\n",
    "pred = model_EllipticEnvelope(X_scaled_minmax)\n",
    "anomalous_rows(pred)"
   ]
  }
 ],
 "metadata": {
  "kernelspec": {
   "display_name": "Python 3",
   "language": "python",
   "name": "python3"
  },
  "language_info": {
   "codemirror_mode": {
    "name": "ipython",
    "version": 3
   },
   "file_extension": ".py",
   "mimetype": "text/x-python",
   "name": "python",
   "nbconvert_exporter": "python",
   "pygments_lexer": "ipython3",
   "version": "3.8.5"
  }
 },
 "nbformat": 4,
 "nbformat_minor": 4
}
